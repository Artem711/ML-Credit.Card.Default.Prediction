{
 "cells": [
  {
   "cell_type": "markdown",
   "id": "bf2233af",
   "metadata": {},
   "source": [
    "## Business: Business problem"
   ]
  },
  {
   "cell_type": "markdown",
   "id": "76d6fef7",
   "metadata": {},
   "source": [
    "## Theory: Binary Classification"
   ]
  },
  {
   "cell_type": "markdown",
   "id": "4094c241",
   "metadata": {},
   "source": [
    "## Business: Business Stakeholder Roles"
   ]
  },
  {
   "cell_type": "markdown",
   "id": "59920835",
   "metadata": {},
   "source": [
    "## Practical: Exploring the data"
   ]
  },
  {
   "cell_type": "markdown",
   "id": "9bb5e836",
   "metadata": {},
   "source": [
    "## Theory: Model evaluation metrics"
   ]
  },
  {
   "cell_type": "markdown",
   "id": "7025775f",
   "metadata": {},
   "source": [
    "## Theory: Solution workflow"
   ]
  },
  {
   "cell_type": "markdown",
   "id": "14612285",
   "metadata": {},
   "source": [
    "## Practical: EDA - Handling duplicates"
   ]
  },
  {
   "cell_type": "markdown",
   "id": "d71f33a5",
   "metadata": {},
   "source": [
    "## Practical: EDA - Loan Status Plot"
   ]
  },
  {
   "cell_type": "markdown",
   "id": "2d30c062",
   "metadata": {},
   "source": [
    "## Practical: EDA - Quantiles"
   ]
  },
  {
   "cell_type": "markdown",
   "id": "4887c82e",
   "metadata": {},
   "source": [
    "## Practical: EDA - Removing outliers"
   ]
  },
  {
   "cell_type": "markdown",
   "id": "387f241d",
   "metadata": {},
   "source": [
    "## Practical: EDA - Replcace null values"
   ]
  },
  {
   "cell_type": "markdown",
   "id": "7e682a2f",
   "metadata": {},
   "source": [
    "## Practical: EDA - 'Home Mortgage' & 'Annual Income' variables"
   ]
  },
  {
   "cell_type": "markdown",
   "id": "f1005e02",
   "metadata": {},
   "source": [
    "## Practical: EDA - 'Purpose' and 'Monthly Debt' variables"
   ]
  },
  {
   "cell_type": "markdown",
   "id": "ba3c0347",
   "metadata": {},
   "source": [
    "## Practical: EDA - 'Years of Credit History' credit history variable"
   ]
  },
  {
   "cell_type": "markdown",
   "id": "ad5d9ebb",
   "metadata": {},
   "source": [
    "## Practical: EDA - 'Months since last delinquent' credit history variable)"
   ]
  },
  {
   "cell_type": "markdown",
   "id": "99632f62",
   "metadata": {},
   "source": [
    "## Practical: EDA - 'Number of Open Accounts' (Credit History Variable)"
   ]
  },
  {
   "cell_type": "markdown",
   "id": "679220d9",
   "metadata": {},
   "source": [
    "## Practical: Ordinality and Dummy Variables"
   ]
  },
  {
   "cell_type": "markdown",
   "id": "ce648fd3",
   "metadata": {},
   "source": [
    "## Practical: Imputation of missing values"
   ]
  },
  {
   "cell_type": "markdown",
   "id": "df3648d1",
   "metadata": {},
   "source": [
    "## Practical: Ordinalise and Impute"
   ]
  },
  {
   "cell_type": "markdown",
   "id": "e14e9cc3",
   "metadata": {},
   "source": [
    "## Practical: Drop Dummy Variables and Scaling"
   ]
  },
  {
   "cell_type": "markdown",
   "id": "09ec9805",
   "metadata": {},
   "source": [
    "## Theory: Introduction to Logistic Regression"
   ]
  },
  {
   "cell_type": "markdown",
   "id": "fa89acbc",
   "metadata": {},
   "source": [
    "## Practical: Split the data into (train and test) sets"
   ]
  },
  {
   "cell_type": "markdown",
   "id": "32868f29",
   "metadata": {},
   "source": [
    "## Theory: Introduction to Decision Trees"
   ]
  },
  {
   "cell_type": "markdown",
   "id": "6e388541",
   "metadata": {},
   "source": [
    "## Theory: Introduction to Random Forests"
   ]
  },
  {
   "cell_type": "markdown",
   "id": "19d3341d",
   "metadata": {},
   "source": [
    "## Theory: Introduction to Boosting Algorithms"
   ]
  },
  {
   "cell_type": "markdown",
   "id": "af059f0a",
   "metadata": {},
   "source": [
    "## Practical: Building a generic classify function"
   ]
  },
  {
   "cell_type": "markdown",
   "id": "48b77c98",
   "metadata": {},
   "source": [
    "## Practical: Feature importance"
   ]
  },
  {
   "cell_type": "markdown",
   "id": "7c21863c",
   "metadata": {},
   "source": [
    "## Practical: Running the models"
   ]
  },
  {
   "cell_type": "markdown",
   "id": "0629dc01",
   "metadata": {},
   "source": [
    "## Practical: Balancing the dataset using SMOTE"
   ]
  },
  {
   "cell_type": "markdown",
   "id": "3badfba2",
   "metadata": {},
   "source": [
    "**SMOTE** => Synthetic Minority Oversampling TEchnique"
   ]
  },
  {
   "cell_type": "markdown",
   "id": "fc68a7b2",
   "metadata": {},
   "source": [
    "## Practical: Predicting output of the model"
   ]
  }
 ],
 "metadata": {
  "kernelspec": {
   "display_name": "Python 3 (ipykernel)",
   "language": "python",
   "name": "python3"
  },
  "language_info": {
   "codemirror_mode": {
    "name": "ipython",
    "version": 3
   },
   "file_extension": ".py",
   "mimetype": "text/x-python",
   "name": "python",
   "nbconvert_exporter": "python",
   "pygments_lexer": "ipython3",
   "version": "3.9.12"
  }
 },
 "nbformat": 4,
 "nbformat_minor": 5
}
