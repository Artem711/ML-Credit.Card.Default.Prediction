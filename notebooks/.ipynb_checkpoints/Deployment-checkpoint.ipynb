{
 "cells": [
  {
   "cell_type": "markdown",
   "id": "9420ad7e",
   "metadata": {},
   "source": [
    "## Theory: MLOps Introduction and Process Definition"
   ]
  },
  {
   "cell_type": "markdown",
   "id": "d53c3d5a",
   "metadata": {},
   "source": [
    "In this blog we're going to build a Machine Learning Pipeline on GCP (Google Cloud Platform) which will include.\n",
    "\n",
    "Contents of this blog will include:\n",
    "- ML Architecture\n",
    "- Cloud Architecture\n",
    "- API Component\n",
    "- CI/CD Component\n",
    "- Cloud Component"
   ]
  },
  {
   "cell_type": "markdown",
   "id": "effa5fe6",
   "metadata": {},
   "source": [
    "## Theory: Machine Learning Architecture"
   ]
  },
  {
   "cell_type": "markdown",
   "id": "c1c754d9",
   "metadata": {},
   "source": [
    "1. Machine learning problems starts with a particular (problem statement / objective). \n",
    "2. Once you've identified the problem statement you will analyse the data that is available at your disposal. \n",
    "3. Based on the data available and the problem statement, you will then starting modelling/developing a solution to that problem in form of some machine learning model using (available data and information provided).\n",
    "4. Once the model is built, we have to evaluate it based on the following two criteria:\n",
    "    - Does this model suits my needs?\n",
    "    - Does this model suits my data? "
   ]
  },
  {
   "cell_type": "markdown",
   "id": "0203abee",
   "metadata": {},
   "source": [
    "## Theory: Cloud Architecture"
   ]
  },
  {
   "cell_type": "markdown",
   "id": "c1dff390",
   "metadata": {},
   "source": [
    "## Practical: Building the Flask application"
   ]
  },
  {
   "cell_type": "markdown",
   "id": "149f5a06",
   "metadata": {},
   "source": [
    "## Theory: Docker"
   ]
  },
  {
   "cell_type": "markdown",
   "id": "87711e0b",
   "metadata": {},
   "source": [
    "## Practical: Docker definition and Dockerfile walkthrough"
   ]
  },
  {
   "cell_type": "markdown",
   "id": "fe9e5b1d",
   "metadata": {},
   "source": [
    "## Practical: Cloud Source Repository"
   ]
  },
  {
   "cell_type": "markdown",
   "id": "9560170f",
   "metadata": {},
   "source": [
    "## Practical: Git setup and commit"
   ]
  },
  {
   "cell_type": "markdown",
   "id": "92c5272d",
   "metadata": {},
   "source": [
    "## Practical: Cloud Build"
   ]
  },
  {
   "cell_type": "markdown",
   "id": "d68a65d8",
   "metadata": {},
   "source": [
    "## Practical: Cloud Run"
   ]
  },
  {
   "cell_type": "code",
   "execution_count": null,
   "id": "72f69099",
   "metadata": {},
   "outputs": [],
   "source": []
  }
 ],
 "metadata": {
  "kernelspec": {
   "display_name": "Python 3 (ipykernel)",
   "language": "python",
   "name": "python3"
  },
  "language_info": {
   "codemirror_mode": {
    "name": "ipython",
    "version": 3
   },
   "file_extension": ".py",
   "mimetype": "text/x-python",
   "name": "python",
   "nbconvert_exporter": "python",
   "pygments_lexer": "ipython3",
   "version": "3.9.12"
  }
 },
 "nbformat": 4,
 "nbformat_minor": 5
}
