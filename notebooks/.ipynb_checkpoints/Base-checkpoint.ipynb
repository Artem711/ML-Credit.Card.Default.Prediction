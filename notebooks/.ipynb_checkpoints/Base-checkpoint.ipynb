{
 "cells": [
  {
   "cell_type": "markdown",
   "id": "5d46c17b",
   "metadata": {},
   "source": [
    "## Business: Business problem"
   ]
  },
  {
   "cell_type": "markdown",
   "id": "856673f7",
   "metadata": {},
   "source": [
    "## Theory: Binary Classification"
   ]
  },
  {
   "cell_type": "markdown",
   "id": "1788ab52",
   "metadata": {},
   "source": [
    "## Business: Business Stakeholder Roles"
   ]
  },
  {
   "cell_type": "markdown",
   "id": "9d28ed53",
   "metadata": {},
   "source": [
    "## Practical: Exploring the data"
   ]
  },
  {
   "cell_type": "markdown",
   "id": "06e3542a",
   "metadata": {},
   "source": [
    "## Theory: Model evaluation metrics"
   ]
  },
  {
   "cell_type": "markdown",
   "id": "b22278ce",
   "metadata": {},
   "source": [
    "## Theory: Solution workflow"
   ]
  },
  {
   "cell_type": "markdown",
   "id": "3d708da4",
   "metadata": {},
   "source": [
    "## Practical: EDA - Handling duplicates"
   ]
  },
  {
   "cell_type": "markdown",
   "id": "c05fecbf",
   "metadata": {},
   "source": [
    "## Practical: EDA - Loan Status Plot"
   ]
  },
  {
   "cell_type": "markdown",
   "id": "f710ca29",
   "metadata": {},
   "source": [
    "## Practical: EDA - Quantiles"
   ]
  },
  {
   "cell_type": "markdown",
   "id": "5ae3dd7b",
   "metadata": {},
   "source": [
    "## Practical: EDA - Removing outliers"
   ]
  },
  {
   "cell_type": "markdown",
   "id": "1dbb0607",
   "metadata": {},
   "source": [
    "## Practical: EDA - Replcace null values"
   ]
  },
  {
   "cell_type": "markdown",
   "id": "5774042d",
   "metadata": {},
   "source": [
    "## Practical: EDA - 'Home Mortgage' & 'Annual Income' variables"
   ]
  },
  {
   "cell_type": "markdown",
   "id": "4e7868dc",
   "metadata": {},
   "source": [
    "## Practical: EDA - 'Purpose' and 'Monthly Debt' variables"
   ]
  },
  {
   "cell_type": "markdown",
   "id": "13ff99ed",
   "metadata": {},
   "source": [
    "## Practical: EDA - 'Years of Credit History' credit history variable"
   ]
  },
  {
   "cell_type": "markdown",
   "id": "4da4e3be",
   "metadata": {},
   "source": [
    "## Practical: EDA - 'Months since last delinquent' credit history variable)"
   ]
  },
  {
   "cell_type": "markdown",
   "id": "bebf5d5a",
   "metadata": {},
   "source": [
    "## Practical: EDA - 'Number of Open Accounts' (Credit History Variable)"
   ]
  },
  {
   "cell_type": "markdown",
   "id": "da398aa1",
   "metadata": {},
   "source": [
    "## Practical: Ordinality and Dummy Variables"
   ]
  },
  {
   "cell_type": "markdown",
   "id": "181ea0ec",
   "metadata": {},
   "source": [
    "## Practical: Imputation of missing values"
   ]
  },
  {
   "cell_type": "markdown",
   "id": "d2bcab3e",
   "metadata": {},
   "source": [
    "## Practical: Ordinalise and Impute"
   ]
  },
  {
   "cell_type": "markdown",
   "id": "47f21f2f",
   "metadata": {},
   "source": [
    "## Practical: Drop Dummy Variables and Scaling"
   ]
  },
  {
   "cell_type": "markdown",
   "id": "d5afdf50",
   "metadata": {},
   "source": [
    "## Theory: Introduction to Logistic Regression"
   ]
  },
  {
   "cell_type": "markdown",
   "id": "e289b03b",
   "metadata": {},
   "source": [
    "## Practical: Split the data into (train and test) sets"
   ]
  },
  {
   "cell_type": "markdown",
   "id": "ea116305",
   "metadata": {},
   "source": [
    "## Theory: Introduction to Decision Trees"
   ]
  },
  {
   "cell_type": "markdown",
   "id": "ac72834f",
   "metadata": {},
   "source": [
    "## Theory: Introduction to Random Forests"
   ]
  },
  {
   "cell_type": "markdown",
   "id": "cd39dca8",
   "metadata": {},
   "source": [
    "## Theory: Introduction to Boosting Algorithms"
   ]
  },
  {
   "cell_type": "markdown",
   "id": "d31ef5ab",
   "metadata": {},
   "source": [
    "## Practical: Building a generic classify function"
   ]
  },
  {
   "cell_type": "markdown",
   "id": "0f5c2861",
   "metadata": {},
   "source": [
    "## Practical: Feature importance"
   ]
  },
  {
   "cell_type": "markdown",
   "id": "820627bb",
   "metadata": {},
   "source": [
    "## Practical: Running the models"
   ]
  },
  {
   "cell_type": "markdown",
   "id": "2dde1e6b",
   "metadata": {},
   "source": [
    "## Practical: Balancing the dataset using SMOTE"
   ]
  },
  {
   "cell_type": "markdown",
   "id": "dd2521f1",
   "metadata": {},
   "source": [
    "**SMOTE** => Synthetic Minority Oversampling TEchnique"
   ]
  },
  {
   "cell_type": "markdown",
   "id": "c7842080",
   "metadata": {},
   "source": [
    "## Practical: Predicting output of the model"
   ]
  }
 ],
 "metadata": {
  "kernelspec": {
   "display_name": "Python 3 (ipykernel)",
   "language": "python",
   "name": "python3"
  },
  "language_info": {
   "codemirror_mode": {
    "name": "ipython",
    "version": 3
   },
   "file_extension": ".py",
   "mimetype": "text/x-python",
   "name": "python",
   "nbconvert_exporter": "python",
   "pygments_lexer": "ipython3",
   "version": "3.9.12"
  }
 },
 "nbformat": 4,
 "nbformat_minor": 5
}
